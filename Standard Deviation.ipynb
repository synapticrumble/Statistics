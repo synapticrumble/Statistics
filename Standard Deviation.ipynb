{
 "cells": [
  {
   "cell_type": "markdown",
   "metadata": {},
   "source": [
    "# Introduction\n",
    "\n",
    "So far, we have introduced two measures of spread; the range (covered by all the data) and the inter-quartile range (IQR), which looks at the range covered by the middle 50% of the distribution. We also noted that the IQR should be paired as a measure of spread with the median as a measure of center. We now move on to another measure of spread, the standard deviation, which quantifies the spread of a distribution in a completely different way.\n",
    "\n",
    "# Idea\n",
    "\n",
    "The idea behind the standard deviation is to quantify the spread of a distribution by measuring how far the observations are from their mean. The standard deviation gives the average (or typical distance) between a data point and the mean."
   ]
  },
  {
   "cell_type": "markdown",
   "metadata": {},
   "source": [
    "### Excercise\n",
    "Use [Excel](https://oli.cmu.edu/repository/webcontent/8aaa78340a0001dc5574e39e401d2529/_u2_summarizing_data/webcontent/excel/sdintuition.xls) to calculate the standard deviation of the three distributions: \n",
    " - Calculate standard deviation for the first distribution.\n",
    " - Repeat for the other two distributions, adjusting the data range accordingly."
   ]
  },
  {
   "cell_type": "code",
   "execution_count": 1,
   "metadata": {
    "collapsed": true
   },
   "outputs": [],
   "source": [
    "%matplotlib inline\n",
    "%magic"
   ]
  },
  {
   "cell_type": "code",
   "execution_count": 4,
   "metadata": {
    "collapsed": true
   },
   "outputs": [],
   "source": [
    "import pandas as pd"
   ]
  },
  {
   "cell_type": "code",
   "execution_count": 6,
   "metadata": {
    "collapsed": true
   },
   "outputs": [],
   "source": [
    "# import data\n",
    "data = pd.read_excel('https://oli.cmu.edu/repository/webcontent/8aaa78340a0001dc5574e39e401d2529/_u2_summarizing_data/webcontent/excel/sdintuition.xls')"
   ]
  },
  {
   "cell_type": "code",
   "execution_count": 7,
   "metadata": {},
   "outputs": [
    {
     "data": {
      "text/html": [
       "<div>\n",
       "<style>\n",
       "    .dataframe thead tr:only-child th {\n",
       "        text-align: right;\n",
       "    }\n",
       "\n",
       "    .dataframe thead th {\n",
       "        text-align: left;\n",
       "    }\n",
       "\n",
       "    .dataframe tbody tr th {\n",
       "        vertical-align: top;\n",
       "    }\n",
       "</style>\n",
       "<table border=\"1\" class=\"dataframe\">\n",
       "  <thead>\n",
       "    <tr style=\"text-align: right;\">\n",
       "      <th></th>\n",
       "      <th>Class I</th>\n",
       "      <th>Class II</th>\n",
       "      <th>Class III</th>\n",
       "    </tr>\n",
       "  </thead>\n",
       "  <tbody>\n",
       "    <tr>\n",
       "      <th>0</th>\n",
       "      <td>1</td>\n",
       "      <td>1</td>\n",
       "      <td>1</td>\n",
       "    </tr>\n",
       "    <tr>\n",
       "      <th>1</th>\n",
       "      <td>1</td>\n",
       "      <td>1</td>\n",
       "      <td>2</td>\n",
       "    </tr>\n",
       "    <tr>\n",
       "      <th>2</th>\n",
       "      <td>5</td>\n",
       "      <td>1</td>\n",
       "      <td>3</td>\n",
       "    </tr>\n",
       "    <tr>\n",
       "      <th>3</th>\n",
       "      <td>5</td>\n",
       "      <td>1</td>\n",
       "      <td>4</td>\n",
       "    </tr>\n",
       "    <tr>\n",
       "      <th>4</th>\n",
       "      <td>5</td>\n",
       "      <td>1</td>\n",
       "      <td>5</td>\n",
       "    </tr>\n",
       "  </tbody>\n",
       "</table>\n",
       "</div>"
      ],
      "text/plain": [
       "   Class I  Class II  Class III\n",
       "0        1         1          1\n",
       "1        1         1          2\n",
       "2        5         1          3\n",
       "3        5         1          4\n",
       "4        5         1          5"
      ]
     },
     "execution_count": 7,
     "metadata": {},
     "output_type": "execute_result"
    }
   ],
   "source": [
    "# Explore the data\n",
    "data.head()"
   ]
  },
  {
   "cell_type": "code",
   "execution_count": 12,
   "metadata": {
    "scrolled": true
   },
   "outputs": [
    {
     "name": "stdout",
     "output_type": "stream",
     "text": [
      "Standard Deviation for Class I: 1.56892908111\n",
      "Standard Deviation for Class II: 4.0\n",
      "Standard Deviation for Class III: 2.63117405792\n"
     ]
    }
   ],
   "source": [
    "# Calculate SD \n",
    "print ('Standard Deviation for Class I:', data['Class I'].std())\n",
    "print ('Standard Deviation for Class II:', data['Class II'].std())\n",
    "print ('Standard Deviation for Class III:', data['Class III'].std())"
   ]
  },
  {
   "attachments": {},
   "cell_type": "markdown",
   "metadata": {
    "collapsed": true
   },
   "source": [
    "# Length of Human Pregnancy\n",
    "The length of the human pregnancy is not fixed. It is known that it varies according to a distribution which is roughly normal, with a mean of 266 days, and a standard deviation of 16 days. (Source: Figures are from Moore and McCabe, Introduction to the Practice of Statistics). \n",
    "First, lets' apply the Standard Deviation Rule to this case by drawing a picture: \n",
    "\n",
    "<img src=\"sdgraph4.gif\">\n",
    "\n",
    "We can now use the information provided by the Standard Deviation Rule about the distribution of the length of human pregnancy, to answer some questions. For example:\n",
    "\n",
    "**Question:** How long do the middle 95% of human pregnancies last?\n",
    "\n",
    "**Answer:** The middle 95% of pregnancies last within 2 standard deviations of the mean, or in this case 234-298 days.\n",
    "\n",
    "**Question:** What percent of pregnancies last more than 298 days?\n",
    "\n",
    "**Answer:** To answer this consider the following picture: \n",
    "<img src=\"sdgraph5.gif\">\n",
    "<br>\n",
    "Since 95% of the pregnancies last between 234 and 298 days, the remaining 5% of pregnancies last either less than 234 days or more than 298 days. Since the normal distribution is symmetric, these 5% of pregnancies are divided evenly between the two tails, and therefore 2.5% of pregnancies last more than 298 days. \n",
    "\n",
    "**Question:** How short are the shortest 2.5% of pregnancies?\n",
    "\n",
    "Answer: Using the same reasoning as in the previous question, the shortest 2.5% of human pregnancies last less than 234 days.\n",
    "\n",
    "**Question:** What percentage of human pregnancies last more than 266 days?\n",
    "\n",
    "Answer: Since 266 days is the mean, approximately 50% of pregnancies last more than 266 days.\n",
    "\n",
<<<<<<< HEAD
    "In general, the larger the animal, the longer the length of pregnancy (also called gestation period). For the horse, for example, the gestation period varies roughly according to a normal distribution with a mean of 336 days and a standard deviation of 3 days (Source: These figures are from Moore and McCabe, Introduction to the Practice of Statistics).\n"
=======
    "In general, the larger the animal, the longer the length of pregnancy (also called gestation period). For the horse, for example, the gestation period varies roughly according to a normal distribution with a mean of 336 days and a standard deviation of 3 days (Source: These figures are from Moore and McCabe, Introduction to the Practice of Statistics).\n",
    "Use the Standard Deviation Rule to answer the following questions. This picture of the SD rule applied to this distribution will help:\n",
    "\n",
    "\n",
    "<img src=\"eda_examining_distributions_didigetthis_deviation3_02q1.gif\">\n"
>>>>>>> ccadda19948f7a369a1c9058a36eee0b9505a63e
   ]
  }
 ],
 "metadata": {
  "kernelspec": {
   "display_name": "Python 3",
   "language": "python",
   "name": "python3"
  },
  "language_info": {
   "codemirror_mode": {
    "name": "ipython",
    "version": 3
   },
   "file_extension": ".py",
   "mimetype": "text/x-python",
   "name": "python",
   "nbconvert_exporter": "python",
   "pygments_lexer": "ipython3",
   "version": "3.5.2"
  }
 },
 "nbformat": 4,
 "nbformat_minor": 2
}
